{
 "cells": [
  {
   "cell_type": "code",
   "execution_count": 2,
   "metadata": {},
   "outputs": [],
   "source": [
    "import os\n",
    "import shutil\n",
    "from PIL import Image\n",
    "\n",
    "# Откуда копировать\n",
    "root_dir = 'C:/Users/Grishkov.DS/Desktop/kolyafoto/Ульяновец-Линеные осмотры'\n",
    "# Куда копировать\n",
    "destination_dir = 'C:/Users/Grishkov.DS/Desktop/kolyafoto/selectphoto'\n",
    "\n",
    "# Создаем папку для копирования фото, если ее еще нет\n",
    "if not os.path.exists(destination_dir):\n",
    "    os.makedirs(destination_dir)\n",
    "\n",
    "# Cчетчик для нумерации фото\n",
    "counter = 1\n",
    "\n",
    "# Функция для рекурсивного обхода каталогов\n",
    "def copy_photos(src, dest):\n",
    "    global counter\n",
    "    for item in os.listdir(src):\n",
    "        s = os.path.join(src, item)\n",
    "        d = os.path.join(dest, f'{counter}.png')\n",
    "        if os.path.isdir(s):\n",
    "            # Рекурсивный вызов для вложенных каталогов\n",
    "            copy_photos(s, dest)\n",
    "        elif s.lower().endswith(('.jpg', '.jpeg', '.png', '.bmp', '.gif')):\n",
    "            # Копируем фото и изменяем формат\n",
    "            shutil.copy2(s, d)\n",
    "            img = Image.open(d)\n",
    "            img.save(d)\n",
    "            counter += 1\n",
    "\n",
    "# Запускаем копирование фото\n",
    "copy_photos(root_dir, destination_dir)"
   ]
  }
 ],
 "metadata": {
  "kernelspec": {
   "display_name": "contorch",
   "language": "python",
   "name": "python3"
  },
  "language_info": {
   "codemirror_mode": {
    "name": "ipython",
    "version": 3
   },
   "file_extension": ".py",
   "mimetype": "text/x-python",
   "name": "python",
   "nbconvert_exporter": "python",
   "pygments_lexer": "ipython3",
   "version": "3.8.19"
  }
 },
 "nbformat": 4,
 "nbformat_minor": 2
}
